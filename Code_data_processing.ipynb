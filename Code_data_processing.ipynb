{
 "cells": [
  {
   "cell_type": "code",
   "execution_count": 1,
   "id": "623af7a0",
   "metadata": {},
   "outputs": [],
   "source": [
    "import numpy as np\n",
    "import pandas as pd"
   ]
  },
  {
   "cell_type": "code",
   "execution_count": 2,
   "id": "1bc3526f",
   "metadata": {},
   "outputs": [
    {
     "name": "stdout",
     "output_type": "stream",
     "text": [
      "(2000, 11)\n",
      "(2284, 11)\n",
      "(2199, 11)\n",
      "(2027, 9)\n",
      "(518, 12)\n"
     ]
    }
   ],
   "source": [
    "data_2018 = pd.read_excel(\"./trial/IntermediateData.xlsx\",sheet_name=\"2018\")\n",
    "print(data_2018.shape)\n",
    "\n",
    "data_2017 = pd.read_excel(\"./trial/IntermediateData.xlsx\",sheet_name=\"2017\")\n",
    "print(data_2017.shape)\n",
    "\n",
    "data_2016 = pd.read_excel(\"./trial/IntermediateData.xlsx\",sheet_name=\"2016\")\n",
    "print(data_2016.shape)\n",
    "\n",
    "data_2015 = pd.read_excel(\"./trial/IntermediateData.xlsx\",sheet_name=\"2015\")\n",
    "print(data_2015.shape)\n",
    "\n",
    "data_2014 = pd.read_excel(\"./trial/IntermediateData.xlsx\",sheet_name=\"2014\")\n",
    "print(data_2014.shape)"
   ]
  },
  {
   "cell_type": "code",
   "execution_count": 3,
   "id": "6863345c",
   "metadata": {},
   "outputs": [
    {
     "data": {
      "text/html": [
       "<div>\n",
       "<style scoped>\n",
       "    .dataframe tbody tr th:only-of-type {\n",
       "        vertical-align: middle;\n",
       "    }\n",
       "\n",
       "    .dataframe tbody tr th {\n",
       "        vertical-align: top;\n",
       "    }\n",
       "\n",
       "    .dataframe thead th {\n",
       "        text-align: right;\n",
       "    }\n",
       "</style>\n",
       "<table border=\"1\" class=\"dataframe\">\n",
       "  <thead>\n",
       "    <tr style=\"text-align: right;\">\n",
       "      <th></th>\n",
       "      <th>Activity Name</th>\n",
       "      <th>Facility Type</th>\n",
       "      <th>Site County</th>\n",
       "      <th>Site State</th>\n",
       "      <th>Report Type</th>\n",
       "      <th>Waste Type</th>\n",
       "      <th>Consolidated Waste Type</th>\n",
       "      <th>Waste Quantity</th>\n",
       "      <th>Source County</th>\n",
       "      <th>Source State</th>\n",
       "      <th>Source Country</th>\n",
       "    </tr>\n",
       "  </thead>\n",
       "  <tbody>\n",
       "    <tr>\n",
       "      <th>0</th>\n",
       "      <td>AAA MONROE ROCK CORP</td>\n",
       "      <td>Inert Waste Landfill</td>\n",
       "      <td>Snohomish</td>\n",
       "      <td>Washington</td>\n",
       "      <td>Inert Waste Landfill</td>\n",
       "      <td>Cured Concrete</td>\n",
       "      <td>Inert</td>\n",
       "      <td>104889.75</td>\n",
       "      <td>King</td>\n",
       "      <td>WA</td>\n",
       "      <td>USA</td>\n",
       "    </tr>\n",
       "    <tr>\n",
       "      <th>1</th>\n",
       "      <td>AAA MONROE ROCK CORP</td>\n",
       "      <td>Inert Waste Landfill</td>\n",
       "      <td>Snohomish</td>\n",
       "      <td>Washington</td>\n",
       "      <td>Inert Waste Landfill</td>\n",
       "      <td>Soil, rock, gravel</td>\n",
       "      <td>Soils (uncontaminated)</td>\n",
       "      <td>174816.25</td>\n",
       "      <td>King</td>\n",
       "      <td>WA</td>\n",
       "      <td>USA</td>\n",
       "    </tr>\n",
       "    <tr>\n",
       "      <th>2</th>\n",
       "      <td>AAA MONROE ROCK CORP</td>\n",
       "      <td>Inert Waste Landfill</td>\n",
       "      <td>Snohomish</td>\n",
       "      <td>Washington</td>\n",
       "      <td>Inert Waste Landfill</td>\n",
       "      <td>Asphaltic Materials (excluding roofing)</td>\n",
       "      <td>Inert</td>\n",
       "      <td>1893.00</td>\n",
       "      <td>Snohomish</td>\n",
       "      <td>WA</td>\n",
       "      <td>USA</td>\n",
       "    </tr>\n",
       "    <tr>\n",
       "      <th>3</th>\n",
       "      <td>AAA MONROE ROCK CORP</td>\n",
       "      <td>Inert Waste Landfill</td>\n",
       "      <td>Snohomish</td>\n",
       "      <td>Washington</td>\n",
       "      <td>Inert Waste Landfill</td>\n",
       "      <td>Cured Concrete</td>\n",
       "      <td>Inert</td>\n",
       "      <td>52625.25</td>\n",
       "      <td>Snohomish</td>\n",
       "      <td>WA</td>\n",
       "      <td>USA</td>\n",
       "    </tr>\n",
       "    <tr>\n",
       "      <th>4</th>\n",
       "      <td>AAA MONROE ROCK CORP</td>\n",
       "      <td>Inert Waste Landfill</td>\n",
       "      <td>Snohomish</td>\n",
       "      <td>Washington</td>\n",
       "      <td>Inert Waste Landfill</td>\n",
       "      <td>Soil, rock, gravel</td>\n",
       "      <td>Soils (uncontaminated)</td>\n",
       "      <td>89572.75</td>\n",
       "      <td>Snohomish</td>\n",
       "      <td>WA</td>\n",
       "      <td>USA</td>\n",
       "    </tr>\n",
       "  </tbody>\n",
       "</table>\n",
       "</div>"
      ],
      "text/plain": [
       "          Activity Name         Facility Type Site County  Site State  \\\n",
       "0  AAA MONROE ROCK CORP  Inert Waste Landfill   Snohomish  Washington   \n",
       "1  AAA MONROE ROCK CORP  Inert Waste Landfill   Snohomish  Washington   \n",
       "2  AAA MONROE ROCK CORP  Inert Waste Landfill   Snohomish  Washington   \n",
       "3  AAA MONROE ROCK CORP  Inert Waste Landfill   Snohomish  Washington   \n",
       "4  AAA MONROE ROCK CORP  Inert Waste Landfill   Snohomish  Washington   \n",
       "\n",
       "            Report Type                               Waste Type  \\\n",
       "0  Inert Waste Landfill                           Cured Concrete   \n",
       "1  Inert Waste Landfill                       Soil, rock, gravel   \n",
       "2  Inert Waste Landfill  Asphaltic Materials (excluding roofing)   \n",
       "3  Inert Waste Landfill                           Cured Concrete   \n",
       "4  Inert Waste Landfill                       Soil, rock, gravel   \n",
       "\n",
       "  Consolidated Waste Type  Waste Quantity Source County Source State  \\\n",
       "0                   Inert       104889.75          King           WA   \n",
       "1  Soils (uncontaminated)       174816.25          King           WA   \n",
       "2                   Inert         1893.00     Snohomish           WA   \n",
       "3                   Inert        52625.25     Snohomish           WA   \n",
       "4  Soils (uncontaminated)        89572.75     Snohomish           WA   \n",
       "\n",
       "  Source Country  \n",
       "0            USA  \n",
       "1            USA  \n",
       "2            USA  \n",
       "3            USA  \n",
       "4            USA  "
      ]
     },
     "execution_count": 3,
     "metadata": {},
     "output_type": "execute_result"
    }
   ],
   "source": [
    "data_2018.head()"
   ]
  },
  {
   "cell_type": "code",
   "execution_count": 4,
   "id": "8eca3e0a",
   "metadata": {},
   "outputs": [
    {
     "data": {
      "text/plain": [
       "AAA MONROE ROCK CORP                                  4\n",
       "Adams Street Inert Waste Disposal Sight               3\n",
       "Anderson Limited Purpose Landfill                     7\n",
       "Asotin County Regional Landfill                       2\n",
       "Atlas Sand & Gravel - Chipman Landfill                3\n",
       "Avista Ash Landfill                                   1\n",
       "BP Cherry Point Refinery Inert Landfill               4\n",
       "Busy Bee Landfill                                     4\n",
       "CPM Inert Landfill                                    2\n",
       "Carothers Road Solid Waste Site                       2\n",
       "Caton Limited Purpose Landfill, LLC                  19\n",
       "Cedar Hills Regional Landfill                         5\n",
       "Cemex Inert Waste Landfill, Everett                  10\n",
       "Central Pre-Mix Concrete Co. - Crestline              1\n",
       "Cheyne Road Landfill                                  1\n",
       "City of Kennewick Inert Landfill                      5\n",
       "Clark Inert Landfill                                  2\n",
       "Columbia Ridge Landfill                            1584\n",
       "Cowlitz County Headquarters Landfill                 40\n",
       "Dickson S 50th & Tyler Fill Site                      3\n",
       "Douglas County Lux Pit                                4\n",
       "Ephrata Landfill                                      2\n",
       "Everett Water Filtration Plant                        1\n",
       "Filion Inert Demo Site                                4\n",
       "Finley Buttes (Oregon)                               18\n",
       "Graham Road Recycling & Disp                         57\n",
       "Greater Wenatchee Regional Landfill                  39\n",
       "Horn Rapids Sanitary Landfill                         6\n",
       "LRI Landfill                                         11\n",
       "Lady Island Landfill                                  2\n",
       "Lawson Limited Purpose Landfill                       1\n",
       "Northside Landfill                                    3\n",
       "Okanogan Central Landfill                             7\n",
       "Pit-9 Inert Waste Landfill                            3\n",
       "Port Townsend Paper Company (PTPC)                    3\n",
       "Prosser Inert Waste Landfill                          4\n",
       "Roosevelt Regional Landfill MSW                      98\n",
       "Ryegrass Limited Purpose Landfill                     1\n",
       "Shell Puget Sound Refinery                            1\n",
       "Spokane Regional Waste to Energy Facility             8\n",
       "Stafford Creek Woodwaste Landfill                     4\n",
       "Stevens County Landfill                               9\n",
       "Sudbury Regional Landfill                             9\n",
       "Terrace Heights Landfill                              2\n",
       "Tesoro Refining & Marketing Company                   1\n",
       "TransAlta Centralia Mining LLC                        2\n",
       "WASCO MSW Landfill (Oregon)                           9\n",
       "Waller Road Inert Landfill                            8\n",
       "Wells Avenue Inert Waste Landfill                     2\n",
       "Wenatchee Gun Club Inert Waste landfill               5\n",
       "Yakima Training Center Limited Purpose Landfill       1\n",
       "Name: Activity Name, dtype: int64"
      ]
     },
     "execution_count": 4,
     "metadata": {},
     "output_type": "execute_result"
    }
   ],
   "source": [
    "data_2015['Activity Name'].value_counts().sort_index()"
   ]
  },
  {
   "cell_type": "code",
   "execution_count": 5,
   "id": "c1ab51f0",
   "metadata": {},
   "outputs": [
    {
     "data": {
      "text/plain": [
       "(51,)"
      ]
     },
     "execution_count": 5,
     "metadata": {},
     "output_type": "execute_result"
    }
   ],
   "source": [
    "data_2015['Activity Name'].value_counts().sort_index().shape"
   ]
  },
  {
   "cell_type": "code",
   "execution_count": 6,
   "id": "9c065478",
   "metadata": {},
   "outputs": [
    {
     "data": {
      "text/plain": [
       "Energy Recovery and Incineration      40\n",
       "Inert Waste Landfill                  70\n",
       "Limited Purpose Landfill              84\n",
       "Municipal Solid Waste Landfill      1805\n",
       "Special Incinerator Ash Monofill       1\n",
       "Name: Facility Type, dtype: int64"
      ]
     },
     "execution_count": 6,
     "metadata": {},
     "output_type": "execute_result"
    }
   ],
   "source": [
    "data_2018['Facility Type'].value_counts().sort_index()"
   ]
  },
  {
   "cell_type": "code",
   "execution_count": 7,
   "id": "3de5f20c",
   "metadata": {},
   "outputs": [],
   "source": [
    "# 2014 needs some column renaming for uniformity\n",
    "data_2014 = data_2014.rename(columns={\"SourceCounty\":\"Source County\" ,\n",
    "                                      \"Facility\":\"Activity Name\",\"Amount\":\"Waste Quantity\",\n",
    "                                      \"FacilityType\":\"Report Type\",\"WasteTypeName\":\"Waste Type\",\n",
    "                                       \"CountyName\": \"Site County\", \"StateCode\" : \"Site State\"\n",
    "                                     })\n"
   ]
  },
  {
   "cell_type": "code",
   "execution_count": 8,
   "id": "802dc9cf",
   "metadata": {},
   "outputs": [
    {
     "data": {
      "text/html": [
       "<div>\n",
       "<style scoped>\n",
       "    .dataframe tbody tr th:only-of-type {\n",
       "        vertical-align: middle;\n",
       "    }\n",
       "\n",
       "    .dataframe tbody tr th {\n",
       "        vertical-align: top;\n",
       "    }\n",
       "\n",
       "    .dataframe thead th {\n",
       "        text-align: right;\n",
       "    }\n",
       "</style>\n",
       "<table border=\"1\" class=\"dataframe\">\n",
       "  <thead>\n",
       "    <tr style=\"text-align: right;\">\n",
       "      <th></th>\n",
       "      <th>Activity Name</th>\n",
       "      <th>Facility Type</th>\n",
       "      <th>Site County</th>\n",
       "      <th>Site State</th>\n",
       "      <th>Report Type</th>\n",
       "      <th>Waste Type</th>\n",
       "      <th>Consolidated Waste Type</th>\n",
       "      <th>Waste Quantity</th>\n",
       "      <th>Source County</th>\n",
       "      <th>Source State</th>\n",
       "      <th>Source Country</th>\n",
       "    </tr>\n",
       "  </thead>\n",
       "  <tbody>\n",
       "    <tr>\n",
       "      <th>0</th>\n",
       "      <td>AAA MONROE ROCK CORP</td>\n",
       "      <td>Inert Waste Landfill</td>\n",
       "      <td>Snohomish</td>\n",
       "      <td>Washington</td>\n",
       "      <td>Inert Waste Landfill</td>\n",
       "      <td>Cured Concrete</td>\n",
       "      <td>Inert</td>\n",
       "      <td>104889.75</td>\n",
       "      <td>King</td>\n",
       "      <td>WA</td>\n",
       "      <td>USA</td>\n",
       "    </tr>\n",
       "  </tbody>\n",
       "</table>\n",
       "</div>"
      ],
      "text/plain": [
       "          Activity Name         Facility Type Site County  Site State  \\\n",
       "0  AAA MONROE ROCK CORP  Inert Waste Landfill   Snohomish  Washington   \n",
       "\n",
       "            Report Type      Waste Type Consolidated Waste Type  \\\n",
       "0  Inert Waste Landfill  Cured Concrete                   Inert   \n",
       "\n",
       "   Waste Quantity Source County Source State Source Country  \n",
       "0       104889.75          King           WA            USA  "
      ]
     },
     "execution_count": 8,
     "metadata": {},
     "output_type": "execute_result"
    }
   ],
   "source": [
    "data_2018.head(1)"
   ]
  },
  {
   "cell_type": "code",
   "execution_count": 9,
   "id": "b355db82",
   "metadata": {},
   "outputs": [],
   "source": [
    "# Change some landfill names that are actually the same. Remove (oregon) does not serve any purpose\n",
    "data_2014['Activity Name'] = data_2014['Activity Name'].str.replace('Adams Street Inert Waste Disposal Sight','Adams Street Inert Waste Disposal Site',regex=False)\n",
    "data_2014['Activity Name'] = data_2014['Activity Name'].str.replace('Columbia Ridge Landfill (Oregon)','Columbia Ridge Landfill',regex=False)\n",
    "data_2014['Activity Name'] = data_2014['Activity Name'].str.replace('WASCO MSW Landfill (Oregon)','WASCO MSW Landfill',regex=False)\n",
    "data_2014['Activity Name'] = data_2014['Activity Name'].str.replace('Finley Buttes (Oregon)','Finley Buttes',regex=False)\n",
    "\n",
    "data_2015['Activity Name'] = data_2015['Activity Name'].str.replace('Adams Street Inert Waste Disposal Sight','Adams Street Inert Waste Disposal Site',regex=False)\n",
    "data_2015['Activity Name'] = data_2015['Activity Name'].str.replace('Columbia Ridge Landfill (Oregon)','Columbia Ridge Landfill',regex=False)\n",
    "data_2015['Activity Name'] = data_2015['Activity Name'].str.replace('WASCO MSW Landfill (Oregon)','WASCO MSW Landfill',regex=False)\n",
    "data_2015['Activity Name'] = data_2015['Activity Name'].str.replace('Finley Buttes (Oregon)','Finley Buttes',regex=False)\n",
    "\n",
    "data_2016['Activity Name'] = data_2016['Activity Name'].str.replace('Adams Street Inert Waste Disposal Sight','Adams Street Inert Waste Disposal Site',regex=False)\n",
    "data_2016['Activity Name'] = data_2016['Activity Name'].str.replace('Columbia Ridge Landfill (Oregon)','Columbia Ridge Landfill',regex=False)\n",
    "data_2016['Activity Name'] = data_2016['Activity Name'].str.replace('WASCO MSW Landfill (Oregon)','WASCO MSW Landfill',regex=False)\n",
    "data_2016['Activity Name'] = data_2016['Activity Name'].str.replace('Finley Buttes (Oregon)','Finley Buttes',regex=False)\n",
    "\n",
    "data_2017['Activity Name'] = data_2017['Activity Name'].str.replace('Adams Street Inert Waste Disposal Sight','Adams Street Inert Waste Disposal Site',regex=False)\n",
    "data_2017['Activity Name'] = data_2017['Activity Name'].str.replace('Columbia Ridge Landfill (Oregon)','Columbia Ridge Landfill',regex=False)\n",
    "data_2017['Activity Name'] = data_2017['Activity Name'].str.replace('WASCO MSW Landfill (Oregon)','WASCO MSW Landfill',regex=False)\n",
    "data_2017['Activity Name'] = data_2017['Activity Name'].str.replace('Finley Buttes (Oregon)','Finley Buttes',regex=False)\n",
    "\n",
    "data_2018['Activity Name'] = data_2018['Activity Name'].str.replace('Adams Street Inert Waste Disposal Sight','Adams Street Inert Waste Disposal Site',regex=False)\n",
    "data_2018['Activity Name'] = data_2018['Activity Name'].str.replace('Columbia Ridge Landfill (Oregon)','Columbia Ridge Landfill',regex=False)\n",
    "data_2018['Activity Name'] = data_2018['Activity Name'].str.replace('WASCO MSW Landfill (Oregon)','WASCO MSW Landfill',regex=False)\n",
    "data_2018['Activity Name'] = data_2018['Activity Name'].str.replace('Finley Buttes (Oregon)','Finley Buttes',regex=False)\n"
   ]
  },
  {
   "cell_type": "code",
   "execution_count": 10,
   "id": "e10cedba",
   "metadata": {},
   "outputs": [
    {
     "data": {
      "text/plain": [
       "(54,)"
      ]
     },
     "execution_count": 10,
     "metadata": {},
     "output_type": "execute_result"
    }
   ],
   "source": [
    "data_2018['Activity Name'].value_counts().shape"
   ]
  },
  {
   "cell_type": "code",
   "execution_count": 11,
   "id": "a5930dbd",
   "metadata": {},
   "outputs": [
    {
     "data": {
      "text/plain": [
       "AAA MONROE ROCK CORP                                  4\n",
       "Adams Street Inert Waste Disposal Site                3\n",
       "Anderson Limited Purpose Landfill                     7\n",
       "Asotin County Regional Landfill                       2\n",
       "Atlas Sand & Gravel - Chipman Landfill                3\n",
       "Avista Ash Landfill                                   1\n",
       "BP Cherry Point Refinery Inert Landfill               4\n",
       "Busy Bee Landfill                                     4\n",
       "CPM Inert Landfill                                    2\n",
       "Carothers Road Solid Waste Site                       2\n",
       "Caton Limited Purpose Landfill, LLC                  19\n",
       "Cedar Hills Regional Landfill                         5\n",
       "Cemex Inert Waste Landfill, Everett                  10\n",
       "Central Pre-Mix Concrete Co. - Crestline              1\n",
       "Cheyne Road Landfill                                  1\n",
       "City of Kennewick Inert Landfill                      5\n",
       "Clark Inert Landfill                                  2\n",
       "Columbia Ridge Landfill                            1584\n",
       "Cowlitz County Headquarters Landfill                 40\n",
       "Dickson S 50th & Tyler Fill Site                      3\n",
       "Douglas County Lux Pit                                4\n",
       "Ephrata Landfill                                      2\n",
       "Everett Water Filtration Plant                        1\n",
       "Filion Inert Demo Site                                4\n",
       "Finley Buttes                                        18\n",
       "Graham Road Recycling & Disp                         57\n",
       "Greater Wenatchee Regional Landfill                  39\n",
       "Horn Rapids Sanitary Landfill                         6\n",
       "LRI Landfill                                         11\n",
       "Lady Island Landfill                                  2\n",
       "Lawson Limited Purpose Landfill                       1\n",
       "Northside Landfill                                    3\n",
       "Okanogan Central Landfill                             7\n",
       "Pit-9 Inert Waste Landfill                            3\n",
       "Port Townsend Paper Company (PTPC)                    3\n",
       "Prosser Inert Waste Landfill                          4\n",
       "Roosevelt Regional Landfill MSW                      98\n",
       "Ryegrass Limited Purpose Landfill                     1\n",
       "Shell Puget Sound Refinery                            1\n",
       "Spokane Regional Waste to Energy Facility             8\n",
       "Stafford Creek Woodwaste Landfill                     4\n",
       "Stevens County Landfill                               9\n",
       "Sudbury Regional Landfill                             9\n",
       "Terrace Heights Landfill                              2\n",
       "Tesoro Refining & Marketing Company                   1\n",
       "TransAlta Centralia Mining LLC                        2\n",
       "WASCO MSW Landfill                                    9\n",
       "Waller Road Inert Landfill                            8\n",
       "Wells Avenue Inert Waste Landfill                     2\n",
       "Wenatchee Gun Club Inert Waste landfill               5\n",
       "Yakima Training Center Limited Purpose Landfill       1\n",
       "Name: Activity Name, dtype: int64"
      ]
     },
     "execution_count": 11,
     "metadata": {},
     "output_type": "execute_result"
    }
   ],
   "source": [
    "data_2015['Activity Name'].value_counts().sort_index()"
   ]
  },
  {
   "cell_type": "markdown",
   "id": "4624b2da",
   "metadata": {},
   "source": [
    "# PART 1: MAKING COUNTY WISE DATA (2018 to 2014)"
   ]
  },
  {
   "cell_type": "code",
   "execution_count": 12,
   "id": "e41ed193",
   "metadata": {},
   "outputs": [],
   "source": [
    "select_2018 = data_2018.loc[:,['Source County','Activity Name','Waste Quantity']]\n",
    "select_2017 = data_2017.loc[:,['Source County','Activity Name','Waste Quantity']]\n",
    "select_2016 = data_2016.loc[:,['Source County','Activity Name','Waste Quantity']]\n",
    "select_2015 = data_2015.loc[:,['Source County','Activity Name','Waste Quantity']]\n",
    "select_2014 = data_2014.loc[:,['Source County','Activity Name','Waste Quantity']]"
   ]
  },
  {
   "cell_type": "code",
   "execution_count": 13,
   "id": "c533405c",
   "metadata": {},
   "outputs": [
    {
     "name": "stdout",
     "output_type": "stream",
     "text": [
      "(221, 3)\n",
      "(206, 3)\n",
      "(201, 3)\n",
      "(188, 3)\n",
      "(189, 3)\n"
     ]
    }
   ],
   "source": [
    "grp_2018 = select_2018.groupby(by=['Source County','Activity Name']).sum().reset_index()\n",
    "print(grp_2018.shape)\n",
    "grp_2017 = select_2017.groupby(by=['Source County','Activity Name']).sum().reset_index()\n",
    "print(grp_2017.shape)\n",
    "grp_2016 = select_2016.groupby(by=['Source County','Activity Name']).sum().reset_index()\n",
    "print(grp_2016.shape)\n",
    "grp_2015 = select_2015.groupby(by=['Source County','Activity Name']).sum().reset_index()\n",
    "print(grp_2015.shape)\n",
    "grp_2014 = select_2014.groupby(by=['Source County','Activity Name']).sum().reset_index()\n",
    "print(grp_2014.shape)"
   ]
  },
  {
   "cell_type": "code",
   "execution_count": 14,
   "id": "476b0779",
   "metadata": {},
   "outputs": [
    {
     "data": {
      "text/html": [
       "<div>\n",
       "<style scoped>\n",
       "    .dataframe tbody tr th:only-of-type {\n",
       "        vertical-align: middle;\n",
       "    }\n",
       "\n",
       "    .dataframe tbody tr th {\n",
       "        vertical-align: top;\n",
       "    }\n",
       "\n",
       "    .dataframe thead th {\n",
       "        text-align: right;\n",
       "    }\n",
       "</style>\n",
       "<table border=\"1\" class=\"dataframe\">\n",
       "  <thead>\n",
       "    <tr style=\"text-align: right;\">\n",
       "      <th></th>\n",
       "      <th>Source County</th>\n",
       "      <th>Activity Name</th>\n",
       "      <th>Waste Quantity</th>\n",
       "    </tr>\n",
       "  </thead>\n",
       "  <tbody>\n",
       "    <tr>\n",
       "      <th>0</th>\n",
       "      <td>Adams</td>\n",
       "      <td>Columbia Ridge Landfill</td>\n",
       "      <td>19811.25</td>\n",
       "    </tr>\n",
       "    <tr>\n",
       "      <th>1</th>\n",
       "      <td>Adams</td>\n",
       "      <td>Finley Buttes</td>\n",
       "      <td>16.47</td>\n",
       "    </tr>\n",
       "    <tr>\n",
       "      <th>2</th>\n",
       "      <td>Adams</td>\n",
       "      <td>Graham Road Recycling &amp; Disp</td>\n",
       "      <td>81.97</td>\n",
       "    </tr>\n",
       "    <tr>\n",
       "      <th>3</th>\n",
       "      <td>Adams</td>\n",
       "      <td>Greater Wenatchee Regional Landfill</td>\n",
       "      <td>5.12</td>\n",
       "    </tr>\n",
       "    <tr>\n",
       "      <th>4</th>\n",
       "      <td>Adams</td>\n",
       "      <td>Roosevelt Regional Landfill MSW</td>\n",
       "      <td>811.79</td>\n",
       "    </tr>\n",
       "  </tbody>\n",
       "</table>\n",
       "</div>"
      ],
      "text/plain": [
       "  Source County                        Activity Name  Waste Quantity\n",
       "0         Adams              Columbia Ridge Landfill        19811.25\n",
       "1         Adams                        Finley Buttes           16.47\n",
       "2         Adams         Graham Road Recycling & Disp           81.97\n",
       "3         Adams  Greater Wenatchee Regional Landfill            5.12\n",
       "4         Adams      Roosevelt Regional Landfill MSW          811.79"
      ]
     },
     "execution_count": 14,
     "metadata": {},
     "output_type": "execute_result"
    }
   ],
   "source": [
    "grp_2018.head()"
   ]
  },
  {
   "cell_type": "code",
   "execution_count": 15,
   "id": "8527dc9d",
   "metadata": {},
   "outputs": [
    {
     "data": {
      "text/html": [
       "<div>\n",
       "<style scoped>\n",
       "    .dataframe tbody tr th:only-of-type {\n",
       "        vertical-align: middle;\n",
       "    }\n",
       "\n",
       "    .dataframe tbody tr th {\n",
       "        vertical-align: top;\n",
       "    }\n",
       "\n",
       "    .dataframe thead th {\n",
       "        text-align: right;\n",
       "    }\n",
       "</style>\n",
       "<table border=\"1\" class=\"dataframe\">\n",
       "  <thead>\n",
       "    <tr style=\"text-align: right;\">\n",
       "      <th></th>\n",
       "      <th>Source County</th>\n",
       "      <th>Activity Name</th>\n",
       "      <th>Waste Quantity</th>\n",
       "    </tr>\n",
       "  </thead>\n",
       "  <tbody>\n",
       "    <tr>\n",
       "      <th>0</th>\n",
       "      <td>Adams</td>\n",
       "      <td>Columbia Ridge Landfill</td>\n",
       "      <td>32089.82</td>\n",
       "    </tr>\n",
       "    <tr>\n",
       "      <th>1</th>\n",
       "      <td>Adams</td>\n",
       "      <td>Finley Buttes</td>\n",
       "      <td>33.74</td>\n",
       "    </tr>\n",
       "    <tr>\n",
       "      <th>2</th>\n",
       "      <td>Adams</td>\n",
       "      <td>Graham Road Recycling &amp; Disp</td>\n",
       "      <td>66.13</td>\n",
       "    </tr>\n",
       "    <tr>\n",
       "      <th>3</th>\n",
       "      <td>Adams</td>\n",
       "      <td>Greater Wenatchee Regional Landfill</td>\n",
       "      <td>79.47</td>\n",
       "    </tr>\n",
       "    <tr>\n",
       "      <th>4</th>\n",
       "      <td>Adams</td>\n",
       "      <td>Roosevelt Regional Landfill MSW</td>\n",
       "      <td>141.00</td>\n",
       "    </tr>\n",
       "  </tbody>\n",
       "</table>\n",
       "</div>"
      ],
      "text/plain": [
       "  Source County                        Activity Name  Waste Quantity\n",
       "0         Adams              Columbia Ridge Landfill        32089.82\n",
       "1         Adams                        Finley Buttes           33.74\n",
       "2         Adams         Graham Road Recycling & Disp           66.13\n",
       "3         Adams  Greater Wenatchee Regional Landfill           79.47\n",
       "4         Adams      Roosevelt Regional Landfill MSW          141.00"
      ]
     },
     "execution_count": 15,
     "metadata": {},
     "output_type": "execute_result"
    }
   ],
   "source": [
    "grp_2014.head()"
   ]
  },
  {
   "cell_type": "code",
   "execution_count": 16,
   "id": "20344b16",
   "metadata": {},
   "outputs": [
    {
     "name": "stdout",
     "output_type": "stream",
     "text": [
      "(260, 4)\n",
      "(273, 5)\n",
      "(292, 6)\n",
      "(299, 7)\n"
     ]
    }
   ],
   "source": [
    "join_all= pd.merge(grp_2018,grp_2017,on=['Source County','Activity Name'],how='outer')\n",
    "join_all=join_all.rename(columns={\"Waste Quantity_x\":\"2018\",\"Waste Quantity_y\":\"2017\"})\n",
    "print(join_all.shape)\n",
    "\n",
    "join_all= pd.merge(join_all,grp_2016,on=['Source County','Activity Name'],how='outer')\n",
    "join_all = join_all.rename(columns={\"Waste Quantity\":\"2016\"})\n",
    "print(join_all.shape)\n",
    "\n",
    "join_all= pd.merge(join_all,grp_2015,on=['Source County','Activity Name'],how='outer')\n",
    "join_all = join_all.rename(columns={\"Waste Quantity\":\"2015\"})\n",
    "print(join_all.shape)\n",
    "\n",
    "join_all= pd.merge(join_all,grp_2014,on=['Source County','Activity Name'],how='outer')\n",
    "join_all = join_all.rename(columns={\"Waste Quantity\":\"2014\"})\n",
    "print(join_all.shape)"
   ]
  },
  {
   "cell_type": "code",
   "execution_count": 17,
   "id": "fd99b5e8",
   "metadata": {},
   "outputs": [
    {
     "data": {
      "text/html": [
       "<div>\n",
       "<style scoped>\n",
       "    .dataframe tbody tr th:only-of-type {\n",
       "        vertical-align: middle;\n",
       "    }\n",
       "\n",
       "    .dataframe tbody tr th {\n",
       "        vertical-align: top;\n",
       "    }\n",
       "\n",
       "    .dataframe thead th {\n",
       "        text-align: right;\n",
       "    }\n",
       "</style>\n",
       "<table border=\"1\" class=\"dataframe\">\n",
       "  <thead>\n",
       "    <tr style=\"text-align: right;\">\n",
       "      <th></th>\n",
       "      <th>Source County</th>\n",
       "      <th>Activity Name</th>\n",
       "      <th>2018</th>\n",
       "      <th>2017</th>\n",
       "      <th>2016</th>\n",
       "      <th>2015</th>\n",
       "      <th>2014</th>\n",
       "    </tr>\n",
       "  </thead>\n",
       "  <tbody>\n",
       "    <tr>\n",
       "      <th>0</th>\n",
       "      <td>Adams</td>\n",
       "      <td>Columbia Ridge Landfill</td>\n",
       "      <td>19811.25</td>\n",
       "      <td>18001.36</td>\n",
       "      <td>18125.18</td>\n",
       "      <td>16696.94</td>\n",
       "      <td>32089.82</td>\n",
       "    </tr>\n",
       "    <tr>\n",
       "      <th>1</th>\n",
       "      <td>Adams</td>\n",
       "      <td>Finley Buttes</td>\n",
       "      <td>16.47</td>\n",
       "      <td>31.32</td>\n",
       "      <td>19.67</td>\n",
       "      <td>NaN</td>\n",
       "      <td>33.74</td>\n",
       "    </tr>\n",
       "    <tr>\n",
       "      <th>2</th>\n",
       "      <td>Adams</td>\n",
       "      <td>Graham Road Recycling &amp; Disp</td>\n",
       "      <td>81.97</td>\n",
       "      <td>80.50</td>\n",
       "      <td>21.13</td>\n",
       "      <td>84.55</td>\n",
       "      <td>66.13</td>\n",
       "    </tr>\n",
       "    <tr>\n",
       "      <th>3</th>\n",
       "      <td>Adams</td>\n",
       "      <td>Greater Wenatchee Regional Landfill</td>\n",
       "      <td>5.12</td>\n",
       "      <td>32.43</td>\n",
       "      <td>11783.13</td>\n",
       "      <td>64.36</td>\n",
       "      <td>79.47</td>\n",
       "    </tr>\n",
       "    <tr>\n",
       "      <th>4</th>\n",
       "      <td>Adams</td>\n",
       "      <td>Roosevelt Regional Landfill MSW</td>\n",
       "      <td>811.79</td>\n",
       "      <td>451.00</td>\n",
       "      <td>1584.00</td>\n",
       "      <td>240.24</td>\n",
       "      <td>141.00</td>\n",
       "    </tr>\n",
       "  </tbody>\n",
       "</table>\n",
       "</div>"
      ],
      "text/plain": [
       "  Source County                        Activity Name      2018      2017  \\\n",
       "0         Adams              Columbia Ridge Landfill  19811.25  18001.36   \n",
       "1         Adams                        Finley Buttes     16.47     31.32   \n",
       "2         Adams         Graham Road Recycling & Disp     81.97     80.50   \n",
       "3         Adams  Greater Wenatchee Regional Landfill      5.12     32.43   \n",
       "4         Adams      Roosevelt Regional Landfill MSW    811.79    451.00   \n",
       "\n",
       "       2016      2015      2014  \n",
       "0  18125.18  16696.94  32089.82  \n",
       "1     19.67       NaN     33.74  \n",
       "2     21.13     84.55     66.13  \n",
       "3  11783.13     64.36     79.47  \n",
       "4   1584.00    240.24    141.00  "
      ]
     },
     "execution_count": 17,
     "metadata": {},
     "output_type": "execute_result"
    }
   ],
   "source": [
    "join_all.head()"
   ]
  },
  {
   "cell_type": "code",
   "execution_count": 18,
   "id": "d85d11cb",
   "metadata": {},
   "outputs": [
    {
     "data": {
      "text/plain": [
       "Adams            6\n",
       "All State        2\n",
       "Asotin           4\n",
       "Benton          11\n",
       "Chelan          10\n",
       "Clallam          9\n",
       "Clark           10\n",
       "Columbia         4\n",
       "Cowlitz          5\n",
       "Douglas          9\n",
       "Ferry            6\n",
       "Franklin         8\n",
       "Garfield         4\n",
       "Grant            7\n",
       "Grays Harbor     7\n",
       "Island           5\n",
       "Jefferson        6\n",
       "King            16\n",
       "Kitsap           8\n",
       "Kittitas         8\n",
       "Klickitat        6\n",
       "Lewis            6\n",
       "Lincoln          5\n",
       "Mason            4\n",
       "Okanogan         3\n",
       "Out Of State     8\n",
       "Pacific          5\n",
       "Pend Oreille     4\n",
       "Pierce          15\n",
       "San Juan         2\n",
       "Skagit           7\n",
       "Skamania         1\n",
       "Snohomish       15\n",
       "Spokane         17\n",
       "Stevens          6\n",
       "Thurston         7\n",
       "Unspecified      3\n",
       "Wahkiakum        3\n",
       "Walla Walla      6\n",
       "Whatcom          8\n",
       "Whitman         10\n",
       "Yakima          12\n",
       "_Unspecified     1\n",
       "Name: Source County, dtype: int64"
      ]
     },
     "execution_count": 18,
     "metadata": {},
     "output_type": "execute_result"
    }
   ],
   "source": [
    "join_all['Source County'].value_counts().sort_index()"
   ]
  },
  {
   "cell_type": "code",
   "execution_count": 19,
   "id": "429e0124",
   "metadata": {},
   "outputs": [
    {
     "name": "stdout",
     "output_type": "stream",
     "text": [
      "39\n",
      "(285, 8)\n"
     ]
    }
   ],
   "source": [
    "# Remove counties like all state, unspecified,out of state \n",
    "county_data=join_all.copy(deep=True)\n",
    "county_data = county_data.drop(county_data[county_data['Source County']==\"Unspecified\"].index)\n",
    "county_data = county_data.drop(county_data[county_data['Source County']==\"All State\"].index)\n",
    "county_data = county_data.drop(county_data[county_data['Source County']==\"Out Of State\"].index)\n",
    "county_data = county_data.drop(county_data[county_data['Source County']==\"_Unspecified\"].index)\n",
    "county_data= county_data.reset_index()\n",
    "print(len(county_data['Source County'].unique()))\n",
    "print(county_data.shape)"
   ]
  },
  {
   "cell_type": "code",
   "execution_count": 20,
   "id": "4f45fc30",
   "metadata": {},
   "outputs": [
    {
     "data": {
      "text/plain": [
       "AAA MONROE ROCK CORP                          2\n",
       "Adams Street Inert Waste Disposal Site        1\n",
       "Airway Pit                                    1\n",
       "Anderson Limited Purpose Landfill             5\n",
       "Asotin County Regional Landfill               2\n",
       "Atlas Sand & Gravel - Chipman Landfill        1\n",
       "Avista Ash Landfill                           1\n",
       "BP Cherry Point Refinery Inert Landfill       1\n",
       "Busy Bee Landfill                             1\n",
       "CPM Inert Landfill                            1\n",
       "Carothers Road Solid Waste Site               1\n",
       "Caton Limited Purpose Landfill, LLC          14\n",
       "Cedar Hills Regional Landfill                 1\n",
       "Cemex Inert Waste Landfill, Everett           6\n",
       "Central Pre-Mix Concrete Co. - Crestline      1\n",
       "Chester Landfill                              1\n",
       "Cheyne Road Landfill                          1\n",
       "City of Entiat Inert Waste Landfill           1\n",
       "City of Kennewick Inert Landfill              1\n",
       "Clark Inert Landfill                          1\n",
       "Columbia Ridge Landfill                      31\n",
       "Cowlitz County Headquarters Landfill         16\n",
       "Cowlitz County Tenant Way Landfill            2\n",
       "DTG Limited Purpose Landfill                  5\n",
       "Dickson S 50th & Tyler Fill Site              1\n",
       "Douglas County Lux Pit                        1\n",
       "East Isaacs Avenue Inert Waste Landfill       1\n",
       "Ephrata Landfill                              1\n",
       "Everett Water Filtration Plant                1\n",
       "Filion Inert Demo Site                        1\n",
       "Finley Buttes                                20\n",
       "Graham Road Recycling & Disp                 31\n",
       "Greater Wenatchee Regional Landfill          27\n",
       "Horn Rapids Sanitary Landfill                 2\n",
       "Hos Bros Inert Waste Landfill                 1\n",
       "Inland Asphalt Landfill                       1\n",
       "Iron Mountain Quarry                          1\n",
       "LRI Landfill                                  1\n",
       "Lady Island Landfill                          1\n",
       "Lawson Limited Purpose Landfill               1\n",
       "McKinley Limited Purpose Landfill             1\n",
       "Northside Landfill                            2\n",
       "Okanogan Central Landfill                     2\n",
       "Pit-9 Inert Waste Landfill                    1\n",
       "Port Townsend Paper Company (PTPC)            1\n",
       "Prosser Inert Waste Landfill                  2\n",
       "Reserve Silica Corp.                          2\n",
       "Roosevelt Regional Landfill Ash Monofill      1\n",
       "Roosevelt Regional Landfill MSW              30\n",
       "Ryegrass Limited Purpose Landfill             1\n",
       "Shell Puget Sound Refinery                    1\n",
       "Spokane Regional Waste to Energy Facility    26\n",
       "Stafford Creek Woodwaste Landfill             2\n",
       "Stevens County Landfill                       2\n",
       "Sudbury Regional Landfill                     1\n",
       "Terrace Heights Landfill                      1\n",
       "Tesoro Refining & Marketing Company           1\n",
       "TransAlta Centralia Mining LLC                1\n",
       "WASCO MSW Landfill                            6\n",
       "Waller Road Inert Landfill                    5\n",
       "Name: Activity Name, dtype: int64"
      ]
     },
     "execution_count": 20,
     "metadata": {},
     "output_type": "execute_result"
    }
   ],
   "source": [
    "# checking to see if after join any issues happened \n",
    "county_data['Activity Name'].value_counts().sort_index()[:60]"
   ]
  },
  {
   "cell_type": "code",
   "execution_count": 21,
   "id": "9a371772",
   "metadata": {},
   "outputs": [
    {
     "data": {
      "text/plain": [
       "Terrace Heights Landfill                           1\n",
       "Tesoro Refining & Marketing Company                1\n",
       "TransAlta Centralia Mining LLC                     1\n",
       "WASCO MSW Landfill                                 6\n",
       "Waller Road Inert Landfill                         5\n",
       "Ward Ave Inert Waste Landfill                      1\n",
       "Wells Avenue Inert Waste Landfill                  1\n",
       "Wenatchee Gun Club Inert Waste landfill            2\n",
       "Whitman County Transfer Site and Landfill          1\n",
       "Yakima Training Center Limited Purpose Landfill    1\n",
       "Name: Activity Name, dtype: int64"
      ]
     },
     "execution_count": 21,
     "metadata": {},
     "output_type": "execute_result"
    }
   ],
   "source": [
    "# checking to see if after join any issues happened \n",
    "county_data['Activity Name'].value_counts().sort_index()[55:]"
   ]
  },
  {
   "cell_type": "code",
   "execution_count": 22,
   "id": "4f04250a",
   "metadata": {},
   "outputs": [
    {
     "name": "stdout",
     "output_type": "stream",
     "text": [
      "total unique landfills are\n",
      "65\n"
     ]
    }
   ],
   "source": [
    "print(\"total unique landfills are\")\n",
    "print(len(county_data[\"Activity Name\"].unique()))"
   ]
  },
  {
   "cell_type": "code",
   "execution_count": 23,
   "id": "156d654b",
   "metadata": {},
   "outputs": [],
   "source": [
    "# Add Source State = WA so that Tableau does not get confused\n",
    "# A redundant column to make it easier for geo mapping\n",
    "county_data[\"Source State\"] = \"WA\""
   ]
  },
  {
   "cell_type": "code",
   "execution_count": 24,
   "id": "1100b5db",
   "metadata": {},
   "outputs": [
    {
     "data": {
      "text/plain": [
       "(285, 9)"
      ]
     },
     "execution_count": 24,
     "metadata": {},
     "output_type": "execute_result"
    }
   ],
   "source": [
    "grp_county_data = county_data.groupby(by=['Source State','Source County','Activity Name']).sum().reset_index()\n",
    "grp_county_data.shape"
   ]
  },
  {
   "cell_type": "code",
   "execution_count": 25,
   "id": "147bb77b",
   "metadata": {},
   "outputs": [
    {
     "data": {
      "text/html": [
       "<div>\n",
       "<style scoped>\n",
       "    .dataframe tbody tr th:only-of-type {\n",
       "        vertical-align: middle;\n",
       "    }\n",
       "\n",
       "    .dataframe tbody tr th {\n",
       "        vertical-align: top;\n",
       "    }\n",
       "\n",
       "    .dataframe thead th {\n",
       "        text-align: right;\n",
       "    }\n",
       "</style>\n",
       "<table border=\"1\" class=\"dataframe\">\n",
       "  <thead>\n",
       "    <tr style=\"text-align: right;\">\n",
       "      <th></th>\n",
       "      <th>Source State</th>\n",
       "      <th>Source County</th>\n",
       "      <th>Activity Name</th>\n",
       "      <th>index</th>\n",
       "      <th>2018</th>\n",
       "      <th>2017</th>\n",
       "      <th>2016</th>\n",
       "      <th>2015</th>\n",
       "      <th>2014</th>\n",
       "    </tr>\n",
       "  </thead>\n",
       "  <tbody>\n",
       "    <tr>\n",
       "      <th>280</th>\n",
       "      <td>WA</td>\n",
       "      <td>Yakima</td>\n",
       "      <td>Greater Wenatchee Regional Landfill</td>\n",
       "      <td>216</td>\n",
       "      <td>3514.52</td>\n",
       "      <td>158.98</td>\n",
       "      <td>176.41</td>\n",
       "      <td>154.25</td>\n",
       "      <td>558.14</td>\n",
       "    </tr>\n",
       "    <tr>\n",
       "      <th>281</th>\n",
       "      <td>WA</td>\n",
       "      <td>Yakima</td>\n",
       "      <td>Roosevelt Regional Landfill MSW</td>\n",
       "      <td>217</td>\n",
       "      <td>4709.00</td>\n",
       "      <td>5906.00</td>\n",
       "      <td>4717.00</td>\n",
       "      <td>4340.29</td>\n",
       "      <td>2955.00</td>\n",
       "    </tr>\n",
       "    <tr>\n",
       "      <th>282</th>\n",
       "      <td>WA</td>\n",
       "      <td>Yakima</td>\n",
       "      <td>Spokane Regional Waste to Energy Facility</td>\n",
       "      <td>218</td>\n",
       "      <td>1.77</td>\n",
       "      <td>10.70</td>\n",
       "      <td>0.00</td>\n",
       "      <td>0.00</td>\n",
       "      <td>0.00</td>\n",
       "    </tr>\n",
       "    <tr>\n",
       "      <th>283</th>\n",
       "      <td>WA</td>\n",
       "      <td>Yakima</td>\n",
       "      <td>Terrace Heights Landfill</td>\n",
       "      <td>219</td>\n",
       "      <td>189473.04</td>\n",
       "      <td>190694.00</td>\n",
       "      <td>180767.00</td>\n",
       "      <td>171569.00</td>\n",
       "      <td>166556.00</td>\n",
       "    </tr>\n",
       "    <tr>\n",
       "      <th>284</th>\n",
       "      <td>WA</td>\n",
       "      <td>Yakima</td>\n",
       "      <td>Yakima Training Center Limited Purpose Landfill</td>\n",
       "      <td>220</td>\n",
       "      <td>282.60</td>\n",
       "      <td>151.83</td>\n",
       "      <td>656.00</td>\n",
       "      <td>63.00</td>\n",
       "      <td>43.00</td>\n",
       "    </tr>\n",
       "  </tbody>\n",
       "</table>\n",
       "</div>"
      ],
      "text/plain": [
       "    Source State Source County  \\\n",
       "280           WA        Yakima   \n",
       "281           WA        Yakima   \n",
       "282           WA        Yakima   \n",
       "283           WA        Yakima   \n",
       "284           WA        Yakima   \n",
       "\n",
       "                                       Activity Name  index       2018  \\\n",
       "280              Greater Wenatchee Regional Landfill    216    3514.52   \n",
       "281                  Roosevelt Regional Landfill MSW    217    4709.00   \n",
       "282        Spokane Regional Waste to Energy Facility    218       1.77   \n",
       "283                         Terrace Heights Landfill    219  189473.04   \n",
       "284  Yakima Training Center Limited Purpose Landfill    220     282.60   \n",
       "\n",
       "          2017       2016       2015       2014  \n",
       "280     158.98     176.41     154.25     558.14  \n",
       "281    5906.00    4717.00    4340.29    2955.00  \n",
       "282      10.70       0.00       0.00       0.00  \n",
       "283  190694.00  180767.00  171569.00  166556.00  \n",
       "284     151.83     656.00      63.00      43.00  "
      ]
     },
     "execution_count": 25,
     "metadata": {},
     "output_type": "execute_result"
    }
   ],
   "source": [
    "grp_county_data.tail()"
   ]
  },
  {
   "cell_type": "code",
   "execution_count": 26,
   "id": "caeec286",
   "metadata": {},
   "outputs": [
    {
     "data": {
      "text/html": [
       "<div>\n",
       "<style scoped>\n",
       "    .dataframe tbody tr th:only-of-type {\n",
       "        vertical-align: middle;\n",
       "    }\n",
       "\n",
       "    .dataframe tbody tr th {\n",
       "        vertical-align: top;\n",
       "    }\n",
       "\n",
       "    .dataframe thead th {\n",
       "        text-align: right;\n",
       "    }\n",
       "</style>\n",
       "<table border=\"1\" class=\"dataframe\">\n",
       "  <thead>\n",
       "    <tr style=\"text-align: right;\">\n",
       "      <th></th>\n",
       "      <th>index</th>\n",
       "      <th>Source County</th>\n",
       "      <th>Activity Name</th>\n",
       "      <th>2018</th>\n",
       "      <th>2017</th>\n",
       "      <th>2016</th>\n",
       "      <th>2015</th>\n",
       "      <th>2014</th>\n",
       "      <th>Source State</th>\n",
       "    </tr>\n",
       "  </thead>\n",
       "  <tbody>\n",
       "    <tr>\n",
       "      <th>280</th>\n",
       "      <td>216</td>\n",
       "      <td>Yakima</td>\n",
       "      <td>Greater Wenatchee Regional Landfill</td>\n",
       "      <td>3514.52</td>\n",
       "      <td>158.98</td>\n",
       "      <td>176.41</td>\n",
       "      <td>154.25</td>\n",
       "      <td>558.14</td>\n",
       "      <td>WA</td>\n",
       "    </tr>\n",
       "    <tr>\n",
       "      <th>281</th>\n",
       "      <td>217</td>\n",
       "      <td>Yakima</td>\n",
       "      <td>Roosevelt Regional Landfill MSW</td>\n",
       "      <td>4709.00</td>\n",
       "      <td>5906.00</td>\n",
       "      <td>4717.00</td>\n",
       "      <td>4340.29</td>\n",
       "      <td>2955.00</td>\n",
       "      <td>WA</td>\n",
       "    </tr>\n",
       "    <tr>\n",
       "      <th>282</th>\n",
       "      <td>218</td>\n",
       "      <td>Yakima</td>\n",
       "      <td>Spokane Regional Waste to Energy Facility</td>\n",
       "      <td>1.77</td>\n",
       "      <td>10.70</td>\n",
       "      <td>NaN</td>\n",
       "      <td>NaN</td>\n",
       "      <td>NaN</td>\n",
       "      <td>WA</td>\n",
       "    </tr>\n",
       "    <tr>\n",
       "      <th>283</th>\n",
       "      <td>219</td>\n",
       "      <td>Yakima</td>\n",
       "      <td>Terrace Heights Landfill</td>\n",
       "      <td>189473.04</td>\n",
       "      <td>190694.00</td>\n",
       "      <td>180767.00</td>\n",
       "      <td>171569.00</td>\n",
       "      <td>166556.00</td>\n",
       "      <td>WA</td>\n",
       "    </tr>\n",
       "    <tr>\n",
       "      <th>284</th>\n",
       "      <td>220</td>\n",
       "      <td>Yakima</td>\n",
       "      <td>Yakima Training Center Limited Purpose Landfill</td>\n",
       "      <td>282.60</td>\n",
       "      <td>151.83</td>\n",
       "      <td>656.00</td>\n",
       "      <td>63.00</td>\n",
       "      <td>43.00</td>\n",
       "      <td>WA</td>\n",
       "    </tr>\n",
       "  </tbody>\n",
       "</table>\n",
       "</div>"
      ],
      "text/plain": [
       "     index Source County                                    Activity Name  \\\n",
       "280    216        Yakima              Greater Wenatchee Regional Landfill   \n",
       "281    217        Yakima                  Roosevelt Regional Landfill MSW   \n",
       "282    218        Yakima        Spokane Regional Waste to Energy Facility   \n",
       "283    219        Yakima                         Terrace Heights Landfill   \n",
       "284    220        Yakima  Yakima Training Center Limited Purpose Landfill   \n",
       "\n",
       "          2018       2017       2016       2015       2014 Source State  \n",
       "280    3514.52     158.98     176.41     154.25     558.14           WA  \n",
       "281    4709.00    5906.00    4717.00    4340.29    2955.00           WA  \n",
       "282       1.77      10.70        NaN        NaN        NaN           WA  \n",
       "283  189473.04  190694.00  180767.00  171569.00  166556.00           WA  \n",
       "284     282.60     151.83     656.00      63.00      43.00           WA  "
      ]
     },
     "execution_count": 26,
     "metadata": {},
     "output_type": "execute_result"
    }
   ],
   "source": [
    "srt_county_data = county_data.sort_values(by=['Source County','Activity Name'],ignore_index=True)\n",
    "srt_county_data.tail()"
   ]
  },
  {
   "cell_type": "code",
   "execution_count": 27,
   "id": "9b9d69f8",
   "metadata": {},
   "outputs": [],
   "source": [
    "srt_county_data = srt_county_data.drop('index',axis=1)"
   ]
  },
  {
   "cell_type": "code",
   "execution_count": 28,
   "id": "4d0b023c",
   "metadata": {},
   "outputs": [
    {
     "data": {
      "text/html": [
       "<div>\n",
       "<style scoped>\n",
       "    .dataframe tbody tr th:only-of-type {\n",
       "        vertical-align: middle;\n",
       "    }\n",
       "\n",
       "    .dataframe tbody tr th {\n",
       "        vertical-align: top;\n",
       "    }\n",
       "\n",
       "    .dataframe thead th {\n",
       "        text-align: right;\n",
       "    }\n",
       "</style>\n",
       "<table border=\"1\" class=\"dataframe\">\n",
       "  <thead>\n",
       "    <tr style=\"text-align: right;\">\n",
       "      <th></th>\n",
       "      <th>Source County</th>\n",
       "      <th>Activity Name</th>\n",
       "      <th>2018</th>\n",
       "      <th>2017</th>\n",
       "      <th>2016</th>\n",
       "      <th>2015</th>\n",
       "      <th>2014</th>\n",
       "      <th>Source State</th>\n",
       "    </tr>\n",
       "  </thead>\n",
       "  <tbody>\n",
       "    <tr>\n",
       "      <th>280</th>\n",
       "      <td>Yakima</td>\n",
       "      <td>Greater Wenatchee Regional Landfill</td>\n",
       "      <td>3514.52</td>\n",
       "      <td>158.98</td>\n",
       "      <td>176.41</td>\n",
       "      <td>154.25</td>\n",
       "      <td>558.14</td>\n",
       "      <td>WA</td>\n",
       "    </tr>\n",
       "    <tr>\n",
       "      <th>281</th>\n",
       "      <td>Yakima</td>\n",
       "      <td>Roosevelt Regional Landfill MSW</td>\n",
       "      <td>4709.00</td>\n",
       "      <td>5906.00</td>\n",
       "      <td>4717.00</td>\n",
       "      <td>4340.29</td>\n",
       "      <td>2955.00</td>\n",
       "      <td>WA</td>\n",
       "    </tr>\n",
       "    <tr>\n",
       "      <th>282</th>\n",
       "      <td>Yakima</td>\n",
       "      <td>Spokane Regional Waste to Energy Facility</td>\n",
       "      <td>1.77</td>\n",
       "      <td>10.70</td>\n",
       "      <td>NaN</td>\n",
       "      <td>NaN</td>\n",
       "      <td>NaN</td>\n",
       "      <td>WA</td>\n",
       "    </tr>\n",
       "    <tr>\n",
       "      <th>283</th>\n",
       "      <td>Yakima</td>\n",
       "      <td>Terrace Heights Landfill</td>\n",
       "      <td>189473.04</td>\n",
       "      <td>190694.00</td>\n",
       "      <td>180767.00</td>\n",
       "      <td>171569.00</td>\n",
       "      <td>166556.00</td>\n",
       "      <td>WA</td>\n",
       "    </tr>\n",
       "    <tr>\n",
       "      <th>284</th>\n",
       "      <td>Yakima</td>\n",
       "      <td>Yakima Training Center Limited Purpose Landfill</td>\n",
       "      <td>282.60</td>\n",
       "      <td>151.83</td>\n",
       "      <td>656.00</td>\n",
       "      <td>63.00</td>\n",
       "      <td>43.00</td>\n",
       "      <td>WA</td>\n",
       "    </tr>\n",
       "  </tbody>\n",
       "</table>\n",
       "</div>"
      ],
      "text/plain": [
       "    Source County                                    Activity Name       2018  \\\n",
       "280        Yakima              Greater Wenatchee Regional Landfill    3514.52   \n",
       "281        Yakima                  Roosevelt Regional Landfill MSW    4709.00   \n",
       "282        Yakima        Spokane Regional Waste to Energy Facility       1.77   \n",
       "283        Yakima                         Terrace Heights Landfill  189473.04   \n",
       "284        Yakima  Yakima Training Center Limited Purpose Landfill     282.60   \n",
       "\n",
       "          2017       2016       2015       2014 Source State  \n",
       "280     158.98     176.41     154.25     558.14           WA  \n",
       "281    5906.00    4717.00    4340.29    2955.00           WA  \n",
       "282      10.70        NaN        NaN        NaN           WA  \n",
       "283  190694.00  180767.00  171569.00  166556.00           WA  \n",
       "284     151.83     656.00      63.00      43.00           WA  "
      ]
     },
     "execution_count": 28,
     "metadata": {},
     "output_type": "execute_result"
    }
   ],
   "source": [
    "srt_county_data.tail()"
   ]
  },
  {
   "cell_type": "code",
   "execution_count": 29,
   "id": "959d2754",
   "metadata": {},
   "outputs": [],
   "source": [
    "srt_county_data.to_csv(\"./Final_Data/countywise_2014to2018.csv\")"
   ]
  },
  {
   "cell_type": "markdown",
   "id": "fad95d35",
   "metadata": {},
   "source": [
    "# 2. Making the Landfill Data\n",
    "- Landfill name (connector to previous sheet)\n",
    "- Landfill type\n",
    "- geo cordinates"
   ]
  },
  {
   "cell_type": "code",
   "execution_count": 30,
   "id": "4cce30d0",
   "metadata": {},
   "outputs": [
    {
     "data": {
      "text/html": [
       "<div>\n",
       "<style scoped>\n",
       "    .dataframe tbody tr th:only-of-type {\n",
       "        vertical-align: middle;\n",
       "    }\n",
       "\n",
       "    .dataframe tbody tr th {\n",
       "        vertical-align: top;\n",
       "    }\n",
       "\n",
       "    .dataframe thead th {\n",
       "        text-align: right;\n",
       "    }\n",
       "</style>\n",
       "<table border=\"1\" class=\"dataframe\">\n",
       "  <thead>\n",
       "    <tr style=\"text-align: right;\">\n",
       "      <th></th>\n",
       "      <th>SiteActivityID</th>\n",
       "      <th>Activity Name</th>\n",
       "      <th>Site County</th>\n",
       "      <th>Site State</th>\n",
       "      <th>ReportYearDescription</th>\n",
       "      <th>Report Type</th>\n",
       "      <th>ReportTypeName</th>\n",
       "      <th>Waste Quantity</th>\n",
       "      <th>Waste Type</th>\n",
       "      <th>Source County</th>\n",
       "      <th>SourceState</th>\n",
       "      <th>SourceCountry</th>\n",
       "    </tr>\n",
       "  </thead>\n",
       "  <tbody>\n",
       "    <tr>\n",
       "      <th>0</th>\n",
       "      <td>610</td>\n",
       "      <td>AAA MONROE ROCK CORP</td>\n",
       "      <td>Snohomish</td>\n",
       "      <td>WA</td>\n",
       "      <td>2014</td>\n",
       "      <td>Inert Waste Landfill</td>\n",
       "      <td>Inert Waste Landfill</td>\n",
       "      <td>18.0</td>\n",
       "      <td>Asphaltic Materials (excluding roofing)</td>\n",
       "      <td>King</td>\n",
       "      <td>WA</td>\n",
       "      <td>USA</td>\n",
       "    </tr>\n",
       "  </tbody>\n",
       "</table>\n",
       "</div>"
      ],
      "text/plain": [
       "   SiteActivityID         Activity Name Site County Site State  \\\n",
       "0             610  AAA MONROE ROCK CORP   Snohomish         WA   \n",
       "\n",
       "   ReportYearDescription           Report Type        ReportTypeName  \\\n",
       "0                   2014  Inert Waste Landfill  Inert Waste Landfill   \n",
       "\n",
       "   Waste Quantity                               Waste Type Source County  \\\n",
       "0            18.0  Asphaltic Materials (excluding roofing)          King   \n",
       "\n",
       "  SourceState SourceCountry  \n",
       "0          WA           USA  "
      ]
     },
     "execution_count": 30,
     "metadata": {},
     "output_type": "execute_result"
    }
   ],
   "source": [
    "data_2014.head(1)"
   ]
  },
  {
   "cell_type": "code",
   "execution_count": 31,
   "id": "41355f75",
   "metadata": {},
   "outputs": [],
   "source": [
    "land_select_2018 = data_2018.loc[:,['Activity Name','Report Type','Site State','Site County']]\n",
    "land_select_2017 = data_2017.loc[:,['Activity Name','Report Type','Site State','Site County']]\n",
    "land_select_2016 = data_2016.loc[:,['Activity Name','Report Type','Site State','Site County']]\n",
    "land_select_2015 = data_2015.loc[:,['Activity Name','Report Type','Site State','Site County']]\n",
    "land_select_2014 = data_2014.loc[:,['Activity Name','Report Type','Site State','Site County']]"
   ]
  },
  {
   "cell_type": "code",
   "execution_count": 32,
   "id": "c591a303",
   "metadata": {},
   "outputs": [
    {
     "data": {
      "text/html": [
       "<div>\n",
       "<style scoped>\n",
       "    .dataframe tbody tr th:only-of-type {\n",
       "        vertical-align: middle;\n",
       "    }\n",
       "\n",
       "    .dataframe tbody tr th {\n",
       "        vertical-align: top;\n",
       "    }\n",
       "\n",
       "    .dataframe thead th {\n",
       "        text-align: right;\n",
       "    }\n",
       "</style>\n",
       "<table border=\"1\" class=\"dataframe\">\n",
       "  <thead>\n",
       "    <tr style=\"text-align: right;\">\n",
       "      <th></th>\n",
       "      <th>Activity Name</th>\n",
       "      <th>Report Type</th>\n",
       "      <th>Site State</th>\n",
       "      <th>Site County</th>\n",
       "    </tr>\n",
       "  </thead>\n",
       "  <tbody>\n",
       "    <tr>\n",
       "      <th>0</th>\n",
       "      <td>AAA MONROE ROCK CORP</td>\n",
       "      <td>Inert Waste Landfill</td>\n",
       "      <td>Washington</td>\n",
       "      <td>Snohomish</td>\n",
       "    </tr>\n",
       "    <tr>\n",
       "      <th>1</th>\n",
       "      <td>AAA MONROE ROCK CORP</td>\n",
       "      <td>Inert Waste Landfill</td>\n",
       "      <td>Washington</td>\n",
       "      <td>Snohomish</td>\n",
       "    </tr>\n",
       "    <tr>\n",
       "      <th>2</th>\n",
       "      <td>AAA MONROE ROCK CORP</td>\n",
       "      <td>Inert Waste Landfill</td>\n",
       "      <td>Washington</td>\n",
       "      <td>Snohomish</td>\n",
       "    </tr>\n",
       "    <tr>\n",
       "      <th>3</th>\n",
       "      <td>AAA MONROE ROCK CORP</td>\n",
       "      <td>Inert Waste Landfill</td>\n",
       "      <td>Washington</td>\n",
       "      <td>Snohomish</td>\n",
       "    </tr>\n",
       "    <tr>\n",
       "      <th>4</th>\n",
       "      <td>Adams Street Inert Waste Disposal Site</td>\n",
       "      <td>Inert Waste Landfill</td>\n",
       "      <td>Washington</td>\n",
       "      <td>Grays Harbor</td>\n",
       "    </tr>\n",
       "  </tbody>\n",
       "</table>\n",
       "</div>"
      ],
      "text/plain": [
       "                            Activity Name           Report Type  Site State  \\\n",
       "0                    AAA MONROE ROCK CORP  Inert Waste Landfill  Washington   \n",
       "1                    AAA MONROE ROCK CORP  Inert Waste Landfill  Washington   \n",
       "2                    AAA MONROE ROCK CORP  Inert Waste Landfill  Washington   \n",
       "3                    AAA MONROE ROCK CORP  Inert Waste Landfill  Washington   \n",
       "4  Adams Street Inert Waste Disposal Site  Inert Waste Landfill  Washington   \n",
       "\n",
       "    Site County  \n",
       "0     Snohomish  \n",
       "1     Snohomish  \n",
       "2     Snohomish  \n",
       "3     Snohomish  \n",
       "4  Grays Harbor  "
      ]
     },
     "execution_count": 32,
     "metadata": {},
     "output_type": "execute_result"
    }
   ],
   "source": [
    "land_select_2016.head()"
   ]
  },
  {
   "cell_type": "code",
   "execution_count": 33,
   "id": "e8a07695",
   "metadata": {},
   "outputs": [
    {
     "name": "stdout",
     "output_type": "stream",
     "text": [
      "(54, 4)\n",
      "(51, 4)\n",
      "(53, 4)\n",
      "(51, 4)\n",
      "(53, 4)\n"
     ]
    }
   ],
   "source": [
    "land_grp_2018 = land_select_2018.groupby(['Activity Name','Report Type','Site State','Site County']).count().reset_index()\n",
    "print(land_grp_2018.shape)\n",
    "\n",
    "land_grp_2017 = land_select_2017.groupby(['Activity Name','Report Type','Site State','Site County']).count().reset_index()\n",
    "print(land_grp_2017.shape)\n",
    "\n",
    "land_grp_2016 = land_select_2016.groupby(['Activity Name','Report Type','Site State','Site County']).count().reset_index()\n",
    "print(land_grp_2016.shape)\n",
    "\n",
    "land_grp_2015 = land_select_2015.groupby(['Activity Name','Report Type','Site State','Site County']).count().reset_index()\n",
    "print(land_grp_2015.shape)\n",
    "\n",
    "land_grp_2014 = land_select_2014.groupby(['Activity Name','Report Type','Site State','Site County']).count().reset_index()\n",
    "print(land_grp_2014.shape)"
   ]
  },
  {
   "cell_type": "code",
   "execution_count": 34,
   "id": "db6d5de1",
   "metadata": {},
   "outputs": [
    {
     "data": {
      "text/plain": [
       "(262, 4)"
      ]
     },
     "execution_count": 34,
     "metadata": {},
     "output_type": "execute_result"
    }
   ],
   "source": [
    "# Concatenate all to find the complete list \n",
    "result = pd.concat([land_grp_2018,land_grp_2017,land_grp_2016,land_grp_2015,land_grp_2014])\n",
    "result.shape"
   ]
  },
  {
   "cell_type": "code",
   "execution_count": 35,
   "id": "2d2536e3",
   "metadata": {},
   "outputs": [],
   "source": [
    "# Cleanup the same stuff\n",
    "result['Site State'] = result['Site State'].str.replace('Washington','WA',regex=False)\n",
    "result['Site State'] = result['Site State'].str.replace('Oregon','OR',regex=False)"
   ]
  },
  {
   "cell_type": "code",
   "execution_count": 36,
   "id": "3a618580",
   "metadata": {},
   "outputs": [],
   "source": [
    "# Cleanup the same stuff\n",
    "result['Report Type'] = result['Report Type'].str.replace('Energy Recovery/Incineration','Energy Recovery and Incineration',regex=False)\n",
    "result['Report Type'] = result['Report Type'].str.replace('MSW Landfill','Municipal Solid Waste Landfill',regex=False)\n",
    "result['Report Type'] = result['Report Type'].str.replace('Municipal Solid Waste Landfill (351)','Municipal Solid Waste Landfill',regex=False)"
   ]
  },
  {
   "cell_type": "code",
   "execution_count": 37,
   "id": "102fd4b0",
   "metadata": {},
   "outputs": [],
   "source": [
    "#cleanup oregon county names which keep changing\n",
    "result['Site County'] = result['Site County'].str.replace('Gilliam','N/A',regex=False)\n",
    "result['Site County'] = result['Site County'].str.replace('Out Of State','N/A',regex=False)\n",
    "result['Site County'] = result['Site County'].str.replace('_N/A','N/A',regex=False)\n",
    "result['Site County'] = result['Site County'].str.replace('Out of State','N/A',regex=False)\n",
    "result['Site County'] = result['Site County'].str.replace('All State','N/A',regex=False)"
   ]
  },
  {
   "cell_type": "code",
   "execution_count": 38,
   "id": "4446763a",
   "metadata": {},
   "outputs": [
    {
     "data": {
      "text/plain": [
       "(80, 4)"
      ]
     },
     "execution_count": 38,
     "metadata": {},
     "output_type": "execute_result"
    }
   ],
   "source": [
    "landfill=result.groupby(by=['Activity Name','Report Type','Site State','Site County']).count().reset_index()\n",
    "landfill.shape"
   ]
  },
  {
   "cell_type": "code",
   "execution_count": 39,
   "id": "18b32931",
   "metadata": {},
   "outputs": [
    {
     "data": {
      "text/plain": [
       "array(['Snohomish', 'Grays Harbor', 'Spokane', 'Yakima', 'Asotin',\n",
       "       'Whitman', 'Stevens', 'Whatcom', 'King', 'Chelan', 'Benton', 'N/A',\n",
       "       'Cowlitz', 'Pierce', 'Douglas', 'Walla Walla', 'Grant', 'Clark',\n",
       "       'Clallam', 'Okanogan', 'Jefferson', 'Klickitat', 'Kittitas',\n",
       "       'Skagit', 'Lewis'], dtype=object)"
      ]
     },
     "execution_count": 39,
     "metadata": {},
     "output_type": "execute_result"
    }
   ],
   "source": [
    "landfill['Site County'].unique()"
   ]
  },
  {
   "cell_type": "code",
   "execution_count": 40,
   "id": "eabacb38",
   "metadata": {},
   "outputs": [
    {
     "data": {
      "text/plain": [
       "(65, 4)"
      ]
     },
     "execution_count": 40,
     "metadata": {},
     "output_type": "execute_result"
    }
   ],
   "source": [
    "# Sometimes labeled as both limited purpose and MSW. Here we choose MSW using max()\n",
    "landfill=result.groupby(by=['Activity Name','Site State','Site County']).max().reset_index()\n",
    "landfill.shape"
   ]
  },
  {
   "cell_type": "code",
   "execution_count": 41,
   "id": "76848854",
   "metadata": {},
   "outputs": [],
   "source": [
    "# WE get back the unique set of landfill with their type, "
   ]
  },
  {
   "cell_type": "markdown",
   "id": "a8f4f5d1",
   "metadata": {},
   "source": [
    "# PART 3. ADDING THE GEOLOCATION"
   ]
  },
  {
   "cell_type": "markdown",
   "id": "f2cb854c",
   "metadata": {},
   "source": [
    "## Picking up the Data Sheet with Landfills marked manually"
   ]
  },
  {
   "cell_type": "code",
   "execution_count": 42,
   "id": "2860e241",
   "metadata": {},
   "outputs": [],
   "source": [
    "geolocation = pd.read_excel(\"./trial/county_cleaned_fulllocations.xlsx\", sheet_name=\"in\")"
   ]
  },
  {
   "cell_type": "code",
   "execution_count": 43,
   "id": "75488fa9",
   "metadata": {},
   "outputs": [
    {
     "data": {
      "text/html": [
       "<div>\n",
       "<style scoped>\n",
       "    .dataframe tbody tr th:only-of-type {\n",
       "        vertical-align: middle;\n",
       "    }\n",
       "\n",
       "    .dataframe tbody tr th {\n",
       "        vertical-align: top;\n",
       "    }\n",
       "\n",
       "    .dataframe thead th {\n",
       "        text-align: right;\n",
       "    }\n",
       "</style>\n",
       "<table border=\"1\" class=\"dataframe\">\n",
       "  <thead>\n",
       "    <tr style=\"text-align: right;\">\n",
       "      <th></th>\n",
       "      <th>Unnamed: 0</th>\n",
       "      <th>index</th>\n",
       "      <th>Source County</th>\n",
       "      <th>Activity Name</th>\n",
       "      <th>2018</th>\n",
       "      <th>2017</th>\n",
       "      <th>2016</th>\n",
       "      <th>2015</th>\n",
       "      <th>2014</th>\n",
       "      <th>latitude</th>\n",
       "      <th>longitude</th>\n",
       "    </tr>\n",
       "  </thead>\n",
       "  <tbody>\n",
       "    <tr>\n",
       "      <th>0</th>\n",
       "      <td>84</td>\n",
       "      <td>84</td>\n",
       "      <td>King</td>\n",
       "      <td>AAA MONROE ROCK CORP</td>\n",
       "      <td>279706.00</td>\n",
       "      <td>364200.00</td>\n",
       "      <td>500000.0</td>\n",
       "      <td>400000.00</td>\n",
       "      <td>406881.00</td>\n",
       "      <td>47.849274</td>\n",
       "      <td>-122.024863</td>\n",
       "    </tr>\n",
       "    <tr>\n",
       "      <th>1</th>\n",
       "      <td>154</td>\n",
       "      <td>154</td>\n",
       "      <td>Snohomish</td>\n",
       "      <td>AAA MONROE ROCK CORP</td>\n",
       "      <td>144091.00</td>\n",
       "      <td>187622.00</td>\n",
       "      <td>314683.0</td>\n",
       "      <td>311341.00</td>\n",
       "      <td>266283.00</td>\n",
       "      <td>47.849274</td>\n",
       "      <td>-122.024863</td>\n",
       "    </tr>\n",
       "    <tr>\n",
       "      <th>2</th>\n",
       "      <td>289</td>\n",
       "      <td>303</td>\n",
       "      <td>Grays Harbor</td>\n",
       "      <td>Adams Street Inert Waste Disposal Sight</td>\n",
       "      <td>NaN</td>\n",
       "      <td>NaN</td>\n",
       "      <td>NaN</td>\n",
       "      <td>2241.96</td>\n",
       "      <td>2783.75</td>\n",
       "      <td>46.974709</td>\n",
       "      <td>-123.886838</td>\n",
       "    </tr>\n",
       "    <tr>\n",
       "      <th>3</th>\n",
       "      <td>71</td>\n",
       "      <td>71</td>\n",
       "      <td>Grays Harbor</td>\n",
       "      <td>Adams Street Inert Waste Disposal Site</td>\n",
       "      <td>131.54</td>\n",
       "      <td>684.48</td>\n",
       "      <td>251.0</td>\n",
       "      <td>NaN</td>\n",
       "      <td>NaN</td>\n",
       "      <td>46.974709</td>\n",
       "      <td>-123.886838</td>\n",
       "    </tr>\n",
       "    <tr>\n",
       "      <th>4</th>\n",
       "      <td>163</td>\n",
       "      <td>163</td>\n",
       "      <td>Spokane</td>\n",
       "      <td>Airway Pit</td>\n",
       "      <td>101587.00</td>\n",
       "      <td>NaN</td>\n",
       "      <td>2645.0</td>\n",
       "      <td>NaN</td>\n",
       "      <td>NaN</td>\n",
       "      <td>47.633005</td>\n",
       "      <td>-117.598674</td>\n",
       "    </tr>\n",
       "  </tbody>\n",
       "</table>\n",
       "</div>"
      ],
      "text/plain": [
       "   Unnamed: 0  index Source County                            Activity Name  \\\n",
       "0          84     84          King                     AAA MONROE ROCK CORP   \n",
       "1         154    154     Snohomish                     AAA MONROE ROCK CORP   \n",
       "2         289    303  Grays Harbor  Adams Street Inert Waste Disposal Sight   \n",
       "3          71     71  Grays Harbor   Adams Street Inert Waste Disposal Site   \n",
       "4         163    163       Spokane                               Airway Pit   \n",
       "\n",
       "        2018       2017      2016       2015       2014   latitude   longitude  \n",
       "0  279706.00  364200.00  500000.0  400000.00  406881.00  47.849274 -122.024863  \n",
       "1  144091.00  187622.00  314683.0  311341.00  266283.00  47.849274 -122.024863  \n",
       "2        NaN        NaN       NaN    2241.96    2783.75  46.974709 -123.886838  \n",
       "3     131.54     684.48     251.0        NaN        NaN  46.974709 -123.886838  \n",
       "4  101587.00        NaN    2645.0        NaN        NaN  47.633005 -117.598674  "
      ]
     },
     "execution_count": 43,
     "metadata": {},
     "output_type": "execute_result"
    }
   ],
   "source": [
    "geolocation.head()"
   ]
  },
  {
   "cell_type": "code",
   "execution_count": 44,
   "id": "618f4ae2",
   "metadata": {},
   "outputs": [
    {
     "data": {
      "text/html": [
       "<div>\n",
       "<style scoped>\n",
       "    .dataframe tbody tr th:only-of-type {\n",
       "        vertical-align: middle;\n",
       "    }\n",
       "\n",
       "    .dataframe tbody tr th {\n",
       "        vertical-align: top;\n",
       "    }\n",
       "\n",
       "    .dataframe thead th {\n",
       "        text-align: right;\n",
       "    }\n",
       "</style>\n",
       "<table border=\"1\" class=\"dataframe\">\n",
       "  <thead>\n",
       "    <tr style=\"text-align: right;\">\n",
       "      <th></th>\n",
       "      <th>Activity Name</th>\n",
       "      <th>latitude</th>\n",
       "      <th>longitude</th>\n",
       "    </tr>\n",
       "  </thead>\n",
       "  <tbody>\n",
       "    <tr>\n",
       "      <th>0</th>\n",
       "      <td>AAA MONROE ROCK CORP</td>\n",
       "      <td>47.849274</td>\n",
       "      <td>-122.024863</td>\n",
       "    </tr>\n",
       "  </tbody>\n",
       "</table>\n",
       "</div>"
      ],
      "text/plain": [
       "          Activity Name   latitude   longitude\n",
       "0  AAA MONROE ROCK CORP  47.849274 -122.024863"
      ]
     },
     "execution_count": 44,
     "metadata": {},
     "output_type": "execute_result"
    }
   ],
   "source": [
    "# only activity and lat long\n",
    "select_geolocation = geolocation.loc[:,['Activity Name','latitude','longitude']]\n",
    "select_geolocation.head(1)"
   ]
  },
  {
   "cell_type": "code",
   "execution_count": 47,
   "id": "7fcc5b18",
   "metadata": {
    "scrolled": true
   },
   "outputs": [],
   "source": [
    "# Change some landfill names that are actually the same. Remove (oregon) does not serve any purpose\n",
    "select_geolocation['Activity Name'] = select_geolocation['Activity Name'].str.replace('Adams Street Inert Waste Disposal Sight','Adams Street Inert Waste Disposal Site',regex=False)\n",
    "select_geolocation['Activity Name'] = select_geolocation['Activity Name'].str.replace('Columbia Ridge Landfill (Oregon)','Columbia Ridge Landfill',regex=False)\n",
    "select_geolocation['Activity Name'] = select_geolocation['Activity Name'].str.replace('WASCO MSW Landfill (Oregon)','WASCO MSW Landfill',regex=False)\n",
    "select_geolocation['Activity Name'] = select_geolocation['Activity Name'].str.replace('Finley Buttes (Oregon)','Finley Buttes',regex=False)"
   ]
  },
  {
   "cell_type": "code",
   "execution_count": 53,
   "id": "3af77bfe",
   "metadata": {},
   "outputs": [
    {
     "data": {
      "text/plain": [
       "(65, 3)"
      ]
     },
     "execution_count": 53,
     "metadata": {},
     "output_type": "execute_result"
    }
   ],
   "source": [
    "grp_geolocation = select_geolocation.groupby(by='Activity Name').max().reset_index()\n",
    "grp_geolocation.shape"
   ]
  },
  {
   "cell_type": "code",
   "execution_count": 56,
   "id": "d7c9be58",
   "metadata": {},
   "outputs": [
    {
     "name": "stdout",
     "output_type": "stream",
     "text": [
      "(65, 6)\n"
     ]
    }
   ],
   "source": [
    "# Left join to unique list of landfills and their details\n",
    "landfill_geo= landfill.merge(grp_geolocation,on=['Activity Name'],how='inner')\n",
    "print(landfill_geo.shape)"
   ]
  },
  {
   "cell_type": "code",
   "execution_count": 57,
   "id": "f7d68c52",
   "metadata": {},
   "outputs": [
    {
     "data": {
      "text/html": [
       "<div>\n",
       "<style scoped>\n",
       "    .dataframe tbody tr th:only-of-type {\n",
       "        vertical-align: middle;\n",
       "    }\n",
       "\n",
       "    .dataframe tbody tr th {\n",
       "        vertical-align: top;\n",
       "    }\n",
       "\n",
       "    .dataframe thead th {\n",
       "        text-align: right;\n",
       "    }\n",
       "</style>\n",
       "<table border=\"1\" class=\"dataframe\">\n",
       "  <thead>\n",
       "    <tr style=\"text-align: right;\">\n",
       "      <th></th>\n",
       "      <th>Activity Name</th>\n",
       "      <th>Site State</th>\n",
       "      <th>Site County</th>\n",
       "      <th>Report Type</th>\n",
       "      <th>latitude</th>\n",
       "      <th>longitude</th>\n",
       "    </tr>\n",
       "  </thead>\n",
       "  <tbody>\n",
       "    <tr>\n",
       "      <th>0</th>\n",
       "      <td>AAA MONROE ROCK CORP</td>\n",
       "      <td>WA</td>\n",
       "      <td>Snohomish</td>\n",
       "      <td>Inert Waste Landfill</td>\n",
       "      <td>47.849274</td>\n",
       "      <td>-122.024863</td>\n",
       "    </tr>\n",
       "    <tr>\n",
       "      <th>1</th>\n",
       "      <td>Adams Street Inert Waste Disposal Site</td>\n",
       "      <td>WA</td>\n",
       "      <td>Grays Harbor</td>\n",
       "      <td>Inert Waste Landfill</td>\n",
       "      <td>46.974709</td>\n",
       "      <td>-123.886838</td>\n",
       "    </tr>\n",
       "    <tr>\n",
       "      <th>2</th>\n",
       "      <td>Airway Pit</td>\n",
       "      <td>WA</td>\n",
       "      <td>Spokane</td>\n",
       "      <td>Inert Waste Landfill</td>\n",
       "      <td>47.633005</td>\n",
       "      <td>-117.598674</td>\n",
       "    </tr>\n",
       "    <tr>\n",
       "      <th>3</th>\n",
       "      <td>Anderson Limited Purpose Landfill</td>\n",
       "      <td>WA</td>\n",
       "      <td>Yakima</td>\n",
       "      <td>Limited Purpose Landfill</td>\n",
       "      <td>46.627160</td>\n",
       "      <td>-120.672106</td>\n",
       "    </tr>\n",
       "    <tr>\n",
       "      <th>4</th>\n",
       "      <td>Asotin County Regional Landfill</td>\n",
       "      <td>WA</td>\n",
       "      <td>Asotin</td>\n",
       "      <td>Municipal Solid Waste Landfill</td>\n",
       "      <td>46.384757</td>\n",
       "      <td>-117.105935</td>\n",
       "    </tr>\n",
       "    <tr>\n",
       "      <th>...</th>\n",
       "      <td>...</td>\n",
       "      <td>...</td>\n",
       "      <td>...</td>\n",
       "      <td>...</td>\n",
       "      <td>...</td>\n",
       "      <td>...</td>\n",
       "    </tr>\n",
       "    <tr>\n",
       "      <th>60</th>\n",
       "      <td>Ward Ave Inert Waste Landfill</td>\n",
       "      <td>WA</td>\n",
       "      <td>Douglas</td>\n",
       "      <td>Inert Waste Landfill</td>\n",
       "      <td>46.210782</td>\n",
       "      <td>-119.113594</td>\n",
       "    </tr>\n",
       "    <tr>\n",
       "      <th>61</th>\n",
       "      <td>Wells Avenue Inert Waste Landfill</td>\n",
       "      <td>WA</td>\n",
       "      <td>Douglas</td>\n",
       "      <td>Inert Waste Landfill</td>\n",
       "      <td>47.390095</td>\n",
       "      <td>-120.167760</td>\n",
       "    </tr>\n",
       "    <tr>\n",
       "      <th>62</th>\n",
       "      <td>Wenatchee Gun Club Inert Waste landfill</td>\n",
       "      <td>WA</td>\n",
       "      <td>Douglas</td>\n",
       "      <td>Inert Waste Landfill</td>\n",
       "      <td>47.408719</td>\n",
       "      <td>-120.287023</td>\n",
       "    </tr>\n",
       "    <tr>\n",
       "      <th>63</th>\n",
       "      <td>Whitman County Transfer Site and Landfill</td>\n",
       "      <td>WA</td>\n",
       "      <td>Whitman</td>\n",
       "      <td>Limited Purpose Landfill</td>\n",
       "      <td>46.763925</td>\n",
       "      <td>-117.278793</td>\n",
       "    </tr>\n",
       "    <tr>\n",
       "      <th>64</th>\n",
       "      <td>Yakima Training Center Limited Purpose Landfill</td>\n",
       "      <td>WA</td>\n",
       "      <td>Yakima</td>\n",
       "      <td>Limited Purpose Landfill</td>\n",
       "      <td>46.683137</td>\n",
       "      <td>-120.357241</td>\n",
       "    </tr>\n",
       "  </tbody>\n",
       "</table>\n",
       "<p>65 rows × 6 columns</p>\n",
       "</div>"
      ],
      "text/plain": [
       "                                      Activity Name Site State   Site County  \\\n",
       "0                              AAA MONROE ROCK CORP         WA     Snohomish   \n",
       "1            Adams Street Inert Waste Disposal Site         WA  Grays Harbor   \n",
       "2                                        Airway Pit         WA       Spokane   \n",
       "3                 Anderson Limited Purpose Landfill         WA        Yakima   \n",
       "4                   Asotin County Regional Landfill         WA        Asotin   \n",
       "..                                              ...        ...           ...   \n",
       "60                    Ward Ave Inert Waste Landfill         WA       Douglas   \n",
       "61                Wells Avenue Inert Waste Landfill         WA       Douglas   \n",
       "62          Wenatchee Gun Club Inert Waste landfill         WA       Douglas   \n",
       "63        Whitman County Transfer Site and Landfill         WA       Whitman   \n",
       "64  Yakima Training Center Limited Purpose Landfill         WA        Yakima   \n",
       "\n",
       "                       Report Type   latitude   longitude  \n",
       "0             Inert Waste Landfill  47.849274 -122.024863  \n",
       "1             Inert Waste Landfill  46.974709 -123.886838  \n",
       "2             Inert Waste Landfill  47.633005 -117.598674  \n",
       "3         Limited Purpose Landfill  46.627160 -120.672106  \n",
       "4   Municipal Solid Waste Landfill  46.384757 -117.105935  \n",
       "..                             ...        ...         ...  \n",
       "60            Inert Waste Landfill  46.210782 -119.113594  \n",
       "61            Inert Waste Landfill  47.390095 -120.167760  \n",
       "62            Inert Waste Landfill  47.408719 -120.287023  \n",
       "63        Limited Purpose Landfill  46.763925 -117.278793  \n",
       "64        Limited Purpose Landfill  46.683137 -120.357241  \n",
       "\n",
       "[65 rows x 6 columns]"
      ]
     },
     "execution_count": 57,
     "metadata": {},
     "output_type": "execute_result"
    }
   ],
   "source": [
    "landfill_geo"
   ]
  },
  {
   "cell_type": "code",
   "execution_count": 58,
   "id": "38536848",
   "metadata": {},
   "outputs": [],
   "source": [
    "# Looks good writing to file\n",
    "landfill_geo.to_csv('./Final_Data/Landfill_Details.csv')"
   ]
  },
  {
   "cell_type": "code",
   "execution_count": null,
   "id": "776d1595",
   "metadata": {},
   "outputs": [],
   "source": []
  },
  {
   "cell_type": "code",
   "execution_count": null,
   "id": "9e7ab517",
   "metadata": {},
   "outputs": [],
   "source": []
  }
 ],
 "metadata": {
  "kernelspec": {
   "display_name": "Python 3 (ipykernel)",
   "language": "python",
   "name": "python3"
  },
  "language_info": {
   "codemirror_mode": {
    "name": "ipython",
    "version": 3
   },
   "file_extension": ".py",
   "mimetype": "text/x-python",
   "name": "python",
   "nbconvert_exporter": "python",
   "pygments_lexer": "ipython3",
   "version": "3.9.7"
  }
 },
 "nbformat": 4,
 "nbformat_minor": 5
}
